{
 "cells": [
  {
   "cell_type": "code",
   "execution_count": 1,
   "id": "2b1f7714-252b-4fba-961f-bc27fc988915",
   "metadata": {},
   "outputs": [],
   "source": [
    "import cv2"
   ]
  },
  {
   "cell_type": "code",
   "execution_count": 2,
   "id": "9f28477c-317b-4a79-a80f-0d5f4bc402ce",
   "metadata": {},
   "outputs": [],
   "source": [
    "my_video = cv2.VideoCapture('C:/Users/Tokisaki/Videos/Demo_Mang.mkv')"
   ]
  },
  {
   "cell_type": "code",
   "execution_count": 3,
   "id": "21cd9d64-7604-4237-93c5-87e84fe5d89b",
   "metadata": {},
   "outputs": [],
   "source": [
    "cv2.namedWindow('Video Player', cv2.WINDOW_NORMAL)"
   ]
  },
  {
   "cell_type": "code",
   "execution_count": 4,
   "id": "ecdb0fcc-eafe-4edb-a32e-91f6fcdfcd94",
   "metadata": {},
   "outputs": [],
   "source": [
    "while True:\n",
    "    # Đọc 1 frame\n",
    "    ret, frame = my_video.read()\n",
    "    \n",
    "    # Thoát khi không thể đọc được frame\n",
    "    if not ret:\n",
    "        break\n",
    "    \n",
    "    # Hiển thị\n",
    "    cv2.imshow('Video Player', frame)\n",
    "    \n",
    "    if(cv2.waitKey(10)==ord('q')):\n",
    "        break"
   ]
  },
  {
   "cell_type": "code",
   "execution_count": 5,
   "id": "74766ce6-dcee-4e9b-b844-5eaa86d23b23",
   "metadata": {},
   "outputs": [],
   "source": [
    "my_video.release\n",
    "cv2.destroyAllWindows()"
   ]
  },
  {
   "cell_type": "code",
   "execution_count": null,
   "id": "a53db098-ccb3-422b-8bef-7b5f1e817ac0",
   "metadata": {},
   "outputs": [],
   "source": []
  }
 ],
 "metadata": {
  "kernelspec": {
   "display_name": "Python 3 (ipykernel)",
   "language": "python",
   "name": "python3"
  },
  "language_info": {
   "codemirror_mode": {
    "name": "ipython",
    "version": 3
   },
   "file_extension": ".py",
   "mimetype": "text/x-python",
   "name": "python",
   "nbconvert_exporter": "python",
   "pygments_lexer": "ipython3",
   "version": "3.12.4"
  }
 },
 "nbformat": 4,
 "nbformat_minor": 5
}
