{
 "cells": [
  {
   "cell_type": "code",
   "execution_count": 8,
   "id": "717b1e22-ccc9-4fe5-9fad-e7aba7484c7b",
   "metadata": {},
   "outputs": [],
   "source": [
    "import cv2\n",
    "import time"
   ]
  },
  {
   "cell_type": "code",
   "execution_count": 9,
   "id": "d6d2d39e-733a-4d96-a0b0-e41953e389cc",
   "metadata": {},
   "outputs": [],
   "source": [
    "def display(title, img):\n",
    "    cv2.imshow(title, img)\n",
    "    cv2.waitKey(0)\n",
    "    cv2.destroyWindow(title)"
   ]
  },
  {
   "cell_type": "code",
   "execution_count": 16,
   "id": "955dd685-ce13-453e-8547-8499c18cca59",
   "metadata": {},
   "outputs": [],
   "source": [
    "face_cascade = cv2.CascadeClassifier('C:/Users/Tokisaki/Downloads/haarcascade_frontalface_default.xml')\n",
    "eye_cascade = cv2.CascadeClassifier('C:/Users/Tokisaki/Downloads/haarcascade_eye_tree_eyeglasses.xml')"
   ]
  },
  {
   "cell_type": "code",
   "execution_count": 17,
   "id": "1e35c618-5f45-4103-b245-b36c69dd335e",
   "metadata": {},
   "outputs": [],
   "source": [
    "img = cv2.imread('C:/Users/Tokisaki/Pictures/1721031460_NguyenDoanDucNam/image_60.jpg')"
   ]
  },
  {
   "cell_type": "code",
   "execution_count": 18,
   "id": "472773b2-df0a-47ba-be70-d61463bbc5ee",
   "metadata": {},
   "outputs": [],
   "source": [
    "gray = cv2.cvtColor(img, cv2.COLOR_BGR2GRAY)"
   ]
  },
  {
   "cell_type": "code",
   "execution_count": 19,
   "id": "7db3cbeb-d119-471c-8b0a-b6ce0fbdefbd",
   "metadata": {},
   "outputs": [],
   "source": [
    "faces = face_cascade.detectMultiScale(gray, scaleFactor=1.1, minNeighbors=5, minSize=(30,30))"
   ]
  },
  {
   "cell_type": "code",
   "execution_count": 20,
   "id": "feb9da3d-8c45-42ea-9f65-969f31308168",
   "metadata": {},
   "outputs": [],
   "source": [
    "eyes = eye_cascade.detectMultiScale(gray, scaleFactor=1.1, minNeighbors=1, minSize=(5,5))"
   ]
  },
  {
   "cell_type": "code",
   "execution_count": 21,
   "id": "e80db242-3bf8-442b-9e12-f1da2e4d5227",
   "metadata": {},
   "outputs": [],
   "source": [
    "for (x, y, w, h) in faces:\n",
    "    cv2.rectangle(img, (x, y), (x+w, y+h), (0, 255,0), 2)"
   ]
  },
  {
   "cell_type": "code",
   "execution_count": 22,
   "id": "79dc1dee-3283-4e62-ba4f-9cbc8e5430be",
   "metadata": {},
   "outputs": [],
   "source": [
    "for (x, y, w, h) in eyes:\n",
    "    cv2.rectangle(img, (x, y), (x+w, y+h), (255, 0,0), 2)"
   ]
  },
  {
   "cell_type": "code",
   "execution_count": 23,
   "id": "e14ec43a-fa24-4680-a782-3f55911eef4e",
   "metadata": {},
   "outputs": [
    {
     "ename": "error",
     "evalue": "OpenCV(4.10.0) D:\\a\\opencv-python\\opencv-python\\opencv\\modules\\highgui\\src\\window_w32.cpp:1261: error: (-27:Null pointer) NULL window: 'Faces: ' in function 'cvDestroyWindow'\n",
     "output_type": "error",
     "traceback": [
      "\u001b[1;31m---------------------------------------------------------------------------\u001b[0m",
      "\u001b[1;31merror\u001b[0m                                     Traceback (most recent call last)",
      "Cell \u001b[1;32mIn[23], line 1\u001b[0m\n\u001b[1;32m----> 1\u001b[0m display(\u001b[38;5;124m'\u001b[39m\u001b[38;5;124mFaces: \u001b[39m\u001b[38;5;124m'\u001b[39m, img)\n",
      "Cell \u001b[1;32mIn[9], line 6\u001b[0m, in \u001b[0;36mdisplay\u001b[1;34m(title, img)\u001b[0m\n\u001b[0;32m      4\u001b[0m cv2\u001b[38;5;241m.\u001b[39mwaitKey(\u001b[38;5;241m0\u001b[39m)\n\u001b[0;32m      5\u001b[0m \u001b[38;5;66;03m# Đóng window\u001b[39;00m\n\u001b[1;32m----> 6\u001b[0m cv2\u001b[38;5;241m.\u001b[39mdestroyWindow(title)\n",
      "\u001b[1;31merror\u001b[0m: OpenCV(4.10.0) D:\\a\\opencv-python\\opencv-python\\opencv\\modules\\highgui\\src\\window_w32.cpp:1261: error: (-27:Null pointer) NULL window: 'Faces: ' in function 'cvDestroyWindow'\n"
     ]
    }
   ],
   "source": [
    "display('Faces: ', img)"
   ]
  },
  {
   "cell_type": "code",
   "execution_count": null,
   "id": "b5b41582-05f7-4e8c-bdff-19c3c2b13825",
   "metadata": {},
   "outputs": [],
   "source": []
  }
 ],
 "metadata": {
  "kernelspec": {
   "display_name": "Python 3 (ipykernel)",
   "language": "python",
   "name": "python3"
  },
  "language_info": {
   "codemirror_mode": {
    "name": "ipython",
    "version": 3
   },
   "file_extension": ".py",
   "mimetype": "text/x-python",
   "name": "python",
   "nbconvert_exporter": "python",
   "pygments_lexer": "ipython3",
   "version": "3.12.4"
  }
 },
 "nbformat": 4,
 "nbformat_minor": 5
}
