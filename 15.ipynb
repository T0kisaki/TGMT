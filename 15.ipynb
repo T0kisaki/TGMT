{
 "cells": [
  {
   "cell_type": "code",
   "execution_count": 1,
   "id": "74ac66bb-09cb-4d2a-8b7f-d96e328a3c77",
   "metadata": {},
   "outputs": [
    {
     "name": "stdout",
     "output_type": "stream",
     "text": [
      "Defaulting to user installation because normal site-packages is not writeable\n",
      "Collecting spicy\n",
      "  Downloading spicy-0.16.0-py2.py3-none-any.whl.metadata (310 bytes)\n",
      "Requirement already satisfied: scipy in d:\\apps\\anaconda\\lib\\site-packages (from spicy) (1.13.1)\n",
      "Requirement already satisfied: numpy<2.3,>=1.22.4 in d:\\apps\\anaconda\\lib\\site-packages (from scipy->spicy) (1.26.4)\n",
      "Downloading spicy-0.16.0-py2.py3-none-any.whl (1.7 kB)\n",
      "Installing collected packages: spicy\n",
      "Successfully installed spicy-0.16.0\n"
     ]
    }
   ],
   "source": [
    "!pip install spicy"
   ]
  },
  {
   "cell_type": "code",
   "execution_count": 2,
   "id": "64269664-6a2f-4220-b378-789a50d3d75a",
   "metadata": {},
   "outputs": [
    {
     "name": "stdout",
     "output_type": "stream",
     "text": [
      "Kết quả:  [ 3. -1.]\n"
     ]
    }
   ],
   "source": [
    "from scipy import linalg\n",
    "import numpy as np\n",
    "A = np.array([[2, 1],[3, 2]])\n",
    "b = np.array([5,7])\n",
    "x = linalg.solve(A, b)\n",
    "print(\"Kết quả: \", x)"
   ]
  },
  {
   "cell_type": "code",
   "execution_count": 5,
   "id": "b90d8589-65b5-444e-99e4-64d8795d131d",
   "metadata": {},
   "outputs": [
    {
     "name": "stdout",
     "output_type": "stream",
     "text": [
      "Tích phân f(x) từ 0 đến 3:  (121.5, 1.3489209749195652e-12)\n"
     ]
    }
   ],
   "source": [
    "from scipy import integrate\n",
    "def my_function(x):\n",
    "    return x**5\n",
    "integral = integrate.quad(my_function, 0, 3);\n",
    "print(\"Tích phân f(x) từ 0 đến 3: \", integral)"
   ]
  },
  {
   "cell_type": "code",
   "execution_count": 4,
   "id": "92fb96e8-bb18-4dc3-9a27-ddcff3c41fd3",
   "metadata": {},
   "outputs": [
    {
     "name": "stdout",
     "output_type": "stream",
     "text": [
      "Giá trị riêng:  [4.56155281+0.j 0.43844719+0.j]\n",
      "Vector riêng:  [[ 0.5392856  -0.36365914]\n",
      " [ 0.84212294  0.93153209]]\n"
     ]
    }
   ],
   "source": [
    "from scipy import linalg\n",
    "import numpy as np\n",
    "A = np.array([[3,1], [4,2]])\n",
    "evals, evecs = linalg.eig(A)\n",
    "print(\"Giá trị riêng: \", evals)\n",
    "print(\"Vector riêng: \", evecs)"
   ]
  },
  {
   "cell_type": "code",
   "execution_count": null,
   "id": "8fb9d1dd-73ac-4330-9b6b-dae557835653",
   "metadata": {},
   "outputs": [],
   "source": []
  }
 ],
 "metadata": {
  "kernelspec": {
   "display_name": "Python 3 (ipykernel)",
   "language": "python",
   "name": "python3"
  },
  "language_info": {
   "codemirror_mode": {
    "name": "ipython",
    "version": 3
   },
   "file_extension": ".py",
   "mimetype": "text/x-python",
   "name": "python",
   "nbconvert_exporter": "python",
   "pygments_lexer": "ipython3",
   "version": "3.12.4"
  }
 },
 "nbformat": 4,
 "nbformat_minor": 5
}
