{
 "cells": [
  {
   "cell_type": "code",
   "execution_count": 2,
   "id": "14891043-0eb2-4193-b00e-dc0a6f955f83",
   "metadata": {},
   "outputs": [
    {
     "name": "stdout",
     "output_type": "stream",
     "text": [
      "[(346.9017551486169, 510.14456882030083), (879.249741889909, 363.4076237569959), (1083.9989675596369, 571.5693365212192), (1237.5608868119327, 510.14456882030083), (974.7993805357821, 387.2950334184641)]\n"
     ]
    }
   ],
   "source": [
    "# Import thư viện\n",
    "from PIL import Image\n",
    "import matplotlib.pyplot as plt\n",
    "\n",
    "# Đường dẫn ảnh\n",
    "my_path = 'C:/Users/Tokisaki/Pictures/Saved Pictures/ark.jpg'\n",
    "\n",
    "# Đọc ảnh\n",
    "im = Image.open(my_path)\n",
    "\n",
    "# Chuyển đổi backend\n",
    "plt.switch_backend('tkagg')\n",
    "\n",
    "# Hiển thị ảnh\n",
    "plt.imshow(im)\n",
    "plt.title('Click on the image to select points')\n",
    "\n",
    "# Sử dụng hàm ginput để chọn điểm trên ảnh\n",
    "points = plt.ginput(5)\n",
    "\n",
    "print(points)\n",
    "\n",
    "# Hiển thị\n",
    "plt.show()"
   ]
  },
  {
   "cell_type": "code",
   "execution_count": 3,
   "id": "19f7a33c-8c6b-48e7-9d0b-90bdbbcb8291",
   "metadata": {},
   "outputs": [],
   "source": [
    "# Vẽ lại các điểm đã chọn bằng dấu * màu đỏ\n",
    "plt.close()\n",
    "\n",
    "# Vẽ lại\n",
    "plt.imshow(im)\n",
    "for point in points:\n",
    "    x, y = point\n",
    "    plt.plot(x,y, 'r*')\n",
    "\n",
    "plt.show()"
   ]
  },
  {
   "cell_type": "code",
   "execution_count": null,
   "id": "97535e9a-92b5-4063-949c-66234e8ae34b",
   "metadata": {},
   "outputs": [],
   "source": []
  }
 ],
 "metadata": {
  "kernelspec": {
   "display_name": "Python 3 (ipykernel)",
   "language": "python",
   "name": "python3"
  },
  "language_info": {
   "codemirror_mode": {
    "name": "ipython",
    "version": 3
   },
   "file_extension": ".py",
   "mimetype": "text/x-python",
   "name": "python",
   "nbconvert_exporter": "python",
   "pygments_lexer": "ipython3",
   "version": "3.12.4"
  }
 },
 "nbformat": 4,
 "nbformat_minor": 5
}
